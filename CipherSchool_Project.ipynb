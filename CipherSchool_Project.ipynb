{
 "cells": [
  {
   "cell_type": "markdown",
   "id": "f5f881ea-c12e-4dfe-82d6-68c73b158925",
   "metadata": {},
   "source": [
    "Tanisha Rani\n",
    "\n",
    "email tanishabansal16@gmail.com\n",
    "\n"
   ]
  },
  {
   "cell_type": "code",
   "execution_count": 1,
   "id": "c7223ce7-1332-471f-a878-11c4989eec0d",
   "metadata": {},
   "outputs": [],
   "source": [
    "import pandas as pd\n",
    "import warnings\n",
    "warnings.filterwarnings(\"ignore\")\n",
    "import matplotlib.pyplot as plt\n",
    "import seaborn as sns\n"
   ]
  },
  {
   "cell_type": "code",
   "execution_count": 2,
   "id": "00bf8e9f-fd03-47a7-9e5e-914fc322ef0b",
   "metadata": {},
   "outputs": [
    {
     "data": {
      "text/html": [
       "<div>\n",
       "<style scoped>\n",
       "    .dataframe tbody tr th:only-of-type {\n",
       "        vertical-align: middle;\n",
       "    }\n",
       "\n",
       "    .dataframe tbody tr th {\n",
       "        vertical-align: top;\n",
       "    }\n",
       "\n",
       "    .dataframe thead th {\n",
       "        text-align: right;\n",
       "    }\n",
       "</style>\n",
       "<table border=\"1\" class=\"dataframe\">\n",
       "  <thead>\n",
       "    <tr style=\"text-align: right;\">\n",
       "      <th></th>\n",
       "      <th>MonthlyIncome</th>\n",
       "      <th>Age</th>\n",
       "      <th>JobSatisfaction</th>\n",
       "      <th>YearsAtCompany</th>\n",
       "      <th>OverTime</th>\n",
       "      <th>Attrition</th>\n",
       "    </tr>\n",
       "  </thead>\n",
       "  <tbody>\n",
       "    <tr>\n",
       "      <th>0</th>\n",
       "      <td>13191.0</td>\n",
       "      <td>41.000000</td>\n",
       "      <td>4.000000</td>\n",
       "      <td>1.0</td>\n",
       "      <td>Yes</td>\n",
       "      <td>1.0</td>\n",
       "    </tr>\n",
       "    <tr>\n",
       "      <th>1</th>\n",
       "      <td>15859.0</td>\n",
       "      <td>44.000000</td>\n",
       "      <td>4.000000</td>\n",
       "      <td>17.0</td>\n",
       "      <td>Yes</td>\n",
       "      <td>0.0</td>\n",
       "    </tr>\n",
       "    <tr>\n",
       "      <th>2</th>\n",
       "      <td>9014.0</td>\n",
       "      <td>28.000000</td>\n",
       "      <td>1.000000</td>\n",
       "      <td>NaN</td>\n",
       "      <td>No</td>\n",
       "      <td>NaN</td>\n",
       "    </tr>\n",
       "    <tr>\n",
       "      <th>3</th>\n",
       "      <td>4936.0</td>\n",
       "      <td>NaN</td>\n",
       "      <td>1.000000</td>\n",
       "      <td>NaN</td>\n",
       "      <td>No</td>\n",
       "      <td>NaN</td>\n",
       "    </tr>\n",
       "    <tr>\n",
       "      <th>4</th>\n",
       "      <td>3885.0</td>\n",
       "      <td>27.000000</td>\n",
       "      <td>4.000000</td>\n",
       "      <td>0.0</td>\n",
       "      <td>Yes</td>\n",
       "      <td>1.0</td>\n",
       "    </tr>\n",
       "    <tr>\n",
       "      <th>...</th>\n",
       "      <td>...</td>\n",
       "      <td>...</td>\n",
       "      <td>...</td>\n",
       "      <td>...</td>\n",
       "      <td>...</td>\n",
       "      <td>...</td>\n",
       "    </tr>\n",
       "    <tr>\n",
       "      <th>195</th>\n",
       "      <td>10592.0</td>\n",
       "      <td>31.000000</td>\n",
       "      <td>8.244641</td>\n",
       "      <td>5.0</td>\n",
       "      <td>Yes</td>\n",
       "      <td>0.0</td>\n",
       "    </tr>\n",
       "    <tr>\n",
       "      <th>196</th>\n",
       "      <td>7157.0</td>\n",
       "      <td>91.167232</td>\n",
       "      <td>2.000000</td>\n",
       "      <td>16.0</td>\n",
       "      <td>No</td>\n",
       "      <td>0.0</td>\n",
       "    </tr>\n",
       "    <tr>\n",
       "      <th>197</th>\n",
       "      <td>13504.0</td>\n",
       "      <td>47.000000</td>\n",
       "      <td>1.000000</td>\n",
       "      <td>0.0</td>\n",
       "      <td>Yes</td>\n",
       "      <td>0.0</td>\n",
       "    </tr>\n",
       "    <tr>\n",
       "      <th>198</th>\n",
       "      <td>12262.0</td>\n",
       "      <td>28.000000</td>\n",
       "      <td>1.000000</td>\n",
       "      <td>1.0</td>\n",
       "      <td>Yes</td>\n",
       "      <td>NaN</td>\n",
       "    </tr>\n",
       "    <tr>\n",
       "      <th>199</th>\n",
       "      <td>NaN</td>\n",
       "      <td>48.000000</td>\n",
       "      <td>1.000000</td>\n",
       "      <td>4.0</td>\n",
       "      <td>Yes</td>\n",
       "      <td>1.0</td>\n",
       "    </tr>\n",
       "  </tbody>\n",
       "</table>\n",
       "<p>200 rows × 6 columns</p>\n",
       "</div>"
      ],
      "text/plain": [
       "     MonthlyIncome        Age  JobSatisfaction  YearsAtCompany OverTime  \\\n",
       "0          13191.0  41.000000         4.000000             1.0      Yes   \n",
       "1          15859.0  44.000000         4.000000            17.0      Yes   \n",
       "2           9014.0  28.000000         1.000000             NaN       No   \n",
       "3           4936.0        NaN         1.000000             NaN       No   \n",
       "4           3885.0  27.000000         4.000000             0.0      Yes   \n",
       "..             ...        ...              ...             ...      ...   \n",
       "195        10592.0  31.000000         8.244641             5.0      Yes   \n",
       "196         7157.0  91.167232         2.000000            16.0       No   \n",
       "197        13504.0  47.000000         1.000000             0.0      Yes   \n",
       "198        12262.0  28.000000         1.000000             1.0      Yes   \n",
       "199            NaN  48.000000         1.000000             4.0      Yes   \n",
       "\n",
       "     Attrition  \n",
       "0          1.0  \n",
       "1          0.0  \n",
       "2          NaN  \n",
       "3          NaN  \n",
       "4          1.0  \n",
       "..         ...  \n",
       "195        0.0  \n",
       "196        0.0  \n",
       "197        0.0  \n",
       "198        NaN  \n",
       "199        1.0  \n",
       "\n",
       "[200 rows x 6 columns]"
      ]
     },
     "execution_count": 2,
     "metadata": {},
     "output_type": "execute_result"
    }
   ],
   "source": [
    "df=pd.read_csv(\"employee_attrition.csv\")\n",
    "df"
   ]
  },
  {
   "cell_type": "code",
   "execution_count": 3,
   "id": "4f51075f-c681-43d3-96a2-10e8a4c82526",
   "metadata": {},
   "outputs": [
    {
     "data": {
      "text/plain": [
       "(200, 6)"
      ]
     },
     "execution_count": 3,
     "metadata": {},
     "output_type": "execute_result"
    }
   ],
   "source": [
    "df.shape"
   ]
  },
  {
   "cell_type": "code",
   "execution_count": 4,
   "id": "b78ac6ea-5184-43e2-8afa-b1b7e6abb879",
   "metadata": {},
   "outputs": [
    {
     "data": {
      "text/plain": [
       "MonthlyIncome      19\n",
       "Age                20\n",
       "JobSatisfaction    18\n",
       "YearsAtCompany     18\n",
       "OverTime            0\n",
       "Attrition          19\n",
       "dtype: int64"
      ]
     },
     "execution_count": 4,
     "metadata": {},
     "output_type": "execute_result"
    }
   ],
   "source": [
    "df.isnull().sum()"
   ]
  },
  {
   "cell_type": "code",
   "execution_count": 5,
   "id": "dec6d026-398f-4b81-8cff-e21d564fa690",
   "metadata": {},
   "outputs": [
    {
     "name": "stdout",
     "output_type": "stream",
     "text": [
      "<class 'pandas.core.frame.DataFrame'>\n",
      "RangeIndex: 200 entries, 0 to 199\n",
      "Data columns (total 6 columns):\n",
      " #   Column           Non-Null Count  Dtype  \n",
      "---  ------           --------------  -----  \n",
      " 0   MonthlyIncome    181 non-null    float64\n",
      " 1   Age              180 non-null    float64\n",
      " 2   JobSatisfaction  182 non-null    float64\n",
      " 3   YearsAtCompany   182 non-null    float64\n",
      " 4   OverTime         200 non-null    object \n",
      " 5   Attrition        181 non-null    float64\n",
      "dtypes: float64(5), object(1)\n",
      "memory usage: 9.5+ KB\n"
     ]
    }
   ],
   "source": [
    "df.info()"
   ]
  },
  {
   "cell_type": "code",
   "execution_count": 6,
   "id": "d96909e6-a9e6-463f-b84c-b718fe8631b7",
   "metadata": {},
   "outputs": [
    {
     "data": {
      "text/html": [
       "<div>\n",
       "<style scoped>\n",
       "    .dataframe tbody tr th:only-of-type {\n",
       "        vertical-align: middle;\n",
       "    }\n",
       "\n",
       "    .dataframe tbody tr th {\n",
       "        vertical-align: top;\n",
       "    }\n",
       "\n",
       "    .dataframe thead th {\n",
       "        text-align: right;\n",
       "    }\n",
       "</style>\n",
       "<table border=\"1\" class=\"dataframe\">\n",
       "  <thead>\n",
       "    <tr style=\"text-align: right;\">\n",
       "      <th></th>\n",
       "      <th>MonthlyIncome</th>\n",
       "      <th>Age</th>\n",
       "      <th>JobSatisfaction</th>\n",
       "      <th>YearsAtCompany</th>\n",
       "      <th>Attrition</th>\n",
       "    </tr>\n",
       "  </thead>\n",
       "  <tbody>\n",
       "    <tr>\n",
       "      <th>count</th>\n",
       "      <td>181.000000</td>\n",
       "      <td>180.000000</td>\n",
       "      <td>182.000000</td>\n",
       "      <td>182.000000</td>\n",
       "      <td>181.000000</td>\n",
       "    </tr>\n",
       "    <tr>\n",
       "      <th>mean</th>\n",
       "      <td>12891.550990</td>\n",
       "      <td>42.725957</td>\n",
       "      <td>2.887068</td>\n",
       "      <td>10.935620</td>\n",
       "      <td>0.676326</td>\n",
       "    </tr>\n",
       "    <tr>\n",
       "      <th>std</th>\n",
       "      <td>7385.406267</td>\n",
       "      <td>15.330312</td>\n",
       "      <td>1.701058</td>\n",
       "      <td>8.686150</td>\n",
       "      <td>0.751718</td>\n",
       "    </tr>\n",
       "    <tr>\n",
       "      <th>min</th>\n",
       "      <td>3002.000000</td>\n",
       "      <td>22.000000</td>\n",
       "      <td>1.000000</td>\n",
       "      <td>0.000000</td>\n",
       "      <td>0.000000</td>\n",
       "    </tr>\n",
       "    <tr>\n",
       "      <th>25%</th>\n",
       "      <td>7478.000000</td>\n",
       "      <td>32.750000</td>\n",
       "      <td>2.000000</td>\n",
       "      <td>5.000000</td>\n",
       "      <td>0.000000</td>\n",
       "    </tr>\n",
       "    <tr>\n",
       "      <th>50%</th>\n",
       "      <td>12331.000000</td>\n",
       "      <td>41.000000</td>\n",
       "      <td>3.000000</td>\n",
       "      <td>9.000000</td>\n",
       "      <td>1.000000</td>\n",
       "    </tr>\n",
       "    <tr>\n",
       "      <th>75%</th>\n",
       "      <td>16365.000000</td>\n",
       "      <td>49.000000</td>\n",
       "      <td>4.000000</td>\n",
       "      <td>15.000000</td>\n",
       "      <td>1.000000</td>\n",
       "    </tr>\n",
       "    <tr>\n",
       "      <th>max</th>\n",
       "      <td>36053.572910</td>\n",
       "      <td>91.167232</td>\n",
       "      <td>8.244641</td>\n",
       "      <td>38.528277</td>\n",
       "      <td>3.041494</td>\n",
       "    </tr>\n",
       "  </tbody>\n",
       "</table>\n",
       "</div>"
      ],
      "text/plain": [
       "       MonthlyIncome         Age  JobSatisfaction  YearsAtCompany   Attrition\n",
       "count     181.000000  180.000000       182.000000      182.000000  181.000000\n",
       "mean    12891.550990   42.725957         2.887068       10.935620    0.676326\n",
       "std      7385.406267   15.330312         1.701058        8.686150    0.751718\n",
       "min      3002.000000   22.000000         1.000000        0.000000    0.000000\n",
       "25%      7478.000000   32.750000         2.000000        5.000000    0.000000\n",
       "50%     12331.000000   41.000000         3.000000        9.000000    1.000000\n",
       "75%     16365.000000   49.000000         4.000000       15.000000    1.000000\n",
       "max     36053.572910   91.167232         8.244641       38.528277    3.041494"
      ]
     },
     "execution_count": 6,
     "metadata": {},
     "output_type": "execute_result"
    }
   ],
   "source": [
    "df.describe()"
   ]
  },
  {
   "cell_type": "code",
   "execution_count": 7,
   "id": "1072f6a5-11ff-44a2-b873-c04c2071fa16",
   "metadata": {},
   "outputs": [
    {
     "data": {
      "text/plain": [
       "MonthlyIncome      float64\n",
       "Age                float64\n",
       "JobSatisfaction    float64\n",
       "YearsAtCompany     float64\n",
       "OverTime            object\n",
       "Attrition          float64\n",
       "dtype: object"
      ]
     },
     "execution_count": 7,
     "metadata": {},
     "output_type": "execute_result"
    }
   ],
   "source": [
    "df.dtypes"
   ]
  },
  {
   "cell_type": "code",
   "execution_count": 8,
   "id": "3b8f3c40-4c35-4f8e-a21b-8f3cd697e9df",
   "metadata": {},
   "outputs": [],
   "source": [
    "df['MonthlyIncome'].fillna(df['MonthlyIncome'].mean(), inplace=True)"
   ]
  },
  {
   "cell_type": "code",
   "execution_count": 9,
   "id": "26567b1e-05d1-4e11-8fac-cabf86026269",
   "metadata": {},
   "outputs": [],
   "source": [
    "df['Age'].fillna(df['Age'].median(), inplace=True)"
   ]
  },
  {
   "cell_type": "code",
   "execution_count": 10,
   "id": "ffb55ada-bb1b-4710-9f33-2134228b284f",
   "metadata": {},
   "outputs": [],
   "source": [
    "df['JobSatisfaction'].fillna(df['JobSatisfaction'].mode()[0], inplace=True)"
   ]
  },
  {
   "cell_type": "code",
   "execution_count": 11,
   "id": "a75bef00-efad-49dc-8970-55a6954ff03f",
   "metadata": {},
   "outputs": [],
   "source": [
    "df['YearsAtCompany'].fillna(df['YearsAtCompany'].median(), inplace=True)"
   ]
  },
  {
   "cell_type": "code",
   "execution_count": 12,
   "id": "03926601-4ea0-42dd-8e6c-f519272438e1",
   "metadata": {},
   "outputs": [],
   "source": [
    "df.dropna(subset=['Attrition'], inplace=True)"
   ]
  },
  {
   "cell_type": "code",
   "execution_count": 13,
   "id": "38ea81f9-e867-4855-ae89-58d0e96f6afa",
   "metadata": {},
   "outputs": [
    {
     "data": {
      "text/html": [
       "<div>\n",
       "<style scoped>\n",
       "    .dataframe tbody tr th:only-of-type {\n",
       "        vertical-align: middle;\n",
       "    }\n",
       "\n",
       "    .dataframe tbody tr th {\n",
       "        vertical-align: top;\n",
       "    }\n",
       "\n",
       "    .dataframe thead th {\n",
       "        text-align: right;\n",
       "    }\n",
       "</style>\n",
       "<table border=\"1\" class=\"dataframe\">\n",
       "  <thead>\n",
       "    <tr style=\"text-align: right;\">\n",
       "      <th></th>\n",
       "      <th>MonthlyIncome</th>\n",
       "      <th>Age</th>\n",
       "      <th>JobSatisfaction</th>\n",
       "      <th>YearsAtCompany</th>\n",
       "      <th>OverTime</th>\n",
       "      <th>Attrition</th>\n",
       "    </tr>\n",
       "  </thead>\n",
       "  <tbody>\n",
       "    <tr>\n",
       "      <th>0</th>\n",
       "      <td>13191.00000</td>\n",
       "      <td>41.000000</td>\n",
       "      <td>4.000000</td>\n",
       "      <td>1.000000</td>\n",
       "      <td>Yes</td>\n",
       "      <td>1.000000</td>\n",
       "    </tr>\n",
       "    <tr>\n",
       "      <th>1</th>\n",
       "      <td>15859.00000</td>\n",
       "      <td>44.000000</td>\n",
       "      <td>4.000000</td>\n",
       "      <td>17.000000</td>\n",
       "      <td>Yes</td>\n",
       "      <td>0.000000</td>\n",
       "    </tr>\n",
       "    <tr>\n",
       "      <th>4</th>\n",
       "      <td>3885.00000</td>\n",
       "      <td>27.000000</td>\n",
       "      <td>4.000000</td>\n",
       "      <td>0.000000</td>\n",
       "      <td>Yes</td>\n",
       "      <td>1.000000</td>\n",
       "    </tr>\n",
       "    <tr>\n",
       "      <th>5</th>\n",
       "      <td>6434.00000</td>\n",
       "      <td>29.000000</td>\n",
       "      <td>4.000000</td>\n",
       "      <td>10.000000</td>\n",
       "      <td>No</td>\n",
       "      <td>3.041494</td>\n",
       "    </tr>\n",
       "    <tr>\n",
       "      <th>6</th>\n",
       "      <td>12891.55099</td>\n",
       "      <td>41.000000</td>\n",
       "      <td>2.000000</td>\n",
       "      <td>38.528277</td>\n",
       "      <td>Yes</td>\n",
       "      <td>1.000000</td>\n",
       "    </tr>\n",
       "    <tr>\n",
       "      <th>...</th>\n",
       "      <td>...</td>\n",
       "      <td>...</td>\n",
       "      <td>...</td>\n",
       "      <td>...</td>\n",
       "      <td>...</td>\n",
       "      <td>...</td>\n",
       "    </tr>\n",
       "    <tr>\n",
       "      <th>194</th>\n",
       "      <td>17551.00000</td>\n",
       "      <td>22.000000</td>\n",
       "      <td>3.000000</td>\n",
       "      <td>5.000000</td>\n",
       "      <td>Yes</td>\n",
       "      <td>1.000000</td>\n",
       "    </tr>\n",
       "    <tr>\n",
       "      <th>195</th>\n",
       "      <td>10592.00000</td>\n",
       "      <td>31.000000</td>\n",
       "      <td>8.244641</td>\n",
       "      <td>5.000000</td>\n",
       "      <td>Yes</td>\n",
       "      <td>0.000000</td>\n",
       "    </tr>\n",
       "    <tr>\n",
       "      <th>196</th>\n",
       "      <td>7157.00000</td>\n",
       "      <td>91.167232</td>\n",
       "      <td>2.000000</td>\n",
       "      <td>16.000000</td>\n",
       "      <td>No</td>\n",
       "      <td>0.000000</td>\n",
       "    </tr>\n",
       "    <tr>\n",
       "      <th>197</th>\n",
       "      <td>13504.00000</td>\n",
       "      <td>47.000000</td>\n",
       "      <td>1.000000</td>\n",
       "      <td>0.000000</td>\n",
       "      <td>Yes</td>\n",
       "      <td>0.000000</td>\n",
       "    </tr>\n",
       "    <tr>\n",
       "      <th>199</th>\n",
       "      <td>12891.55099</td>\n",
       "      <td>48.000000</td>\n",
       "      <td>1.000000</td>\n",
       "      <td>4.000000</td>\n",
       "      <td>Yes</td>\n",
       "      <td>1.000000</td>\n",
       "    </tr>\n",
       "  </tbody>\n",
       "</table>\n",
       "<p>181 rows × 6 columns</p>\n",
       "</div>"
      ],
      "text/plain": [
       "     MonthlyIncome        Age  JobSatisfaction  YearsAtCompany OverTime  \\\n",
       "0      13191.00000  41.000000         4.000000        1.000000      Yes   \n",
       "1      15859.00000  44.000000         4.000000       17.000000      Yes   \n",
       "4       3885.00000  27.000000         4.000000        0.000000      Yes   \n",
       "5       6434.00000  29.000000         4.000000       10.000000       No   \n",
       "6      12891.55099  41.000000         2.000000       38.528277      Yes   \n",
       "..             ...        ...              ...             ...      ...   \n",
       "194    17551.00000  22.000000         3.000000        5.000000      Yes   \n",
       "195    10592.00000  31.000000         8.244641        5.000000      Yes   \n",
       "196     7157.00000  91.167232         2.000000       16.000000       No   \n",
       "197    13504.00000  47.000000         1.000000        0.000000      Yes   \n",
       "199    12891.55099  48.000000         1.000000        4.000000      Yes   \n",
       "\n",
       "     Attrition  \n",
       "0     1.000000  \n",
       "1     0.000000  \n",
       "4     1.000000  \n",
       "5     3.041494  \n",
       "6     1.000000  \n",
       "..         ...  \n",
       "194   1.000000  \n",
       "195   0.000000  \n",
       "196   0.000000  \n",
       "197   0.000000  \n",
       "199   1.000000  \n",
       "\n",
       "[181 rows x 6 columns]"
      ]
     },
     "execution_count": 13,
     "metadata": {},
     "output_type": "execute_result"
    }
   ],
   "source": [
    "df\n"
   ]
  },
  {
   "cell_type": "code",
   "execution_count": 14,
   "id": "70c98166-ec36-465f-8f6f-634ae9b783e0",
   "metadata": {},
   "outputs": [
    {
     "data": {
      "text/plain": [
       "MonthlyIncome      0\n",
       "Age                0\n",
       "JobSatisfaction    0\n",
       "YearsAtCompany     0\n",
       "OverTime           0\n",
       "Attrition          0\n",
       "dtype: int64"
      ]
     },
     "execution_count": 14,
     "metadata": {},
     "output_type": "execute_result"
    }
   ],
   "source": [
    "df.isnull().sum()"
   ]
  },
  {
   "cell_type": "code",
   "execution_count": 15,
   "id": "1d3becdc-c22f-4c48-ae33-18983beca756",
   "metadata": {},
   "outputs": [
    {
     "data": {
      "text/plain": [
       "Index(['MonthlyIncome', 'Age', 'JobSatisfaction', 'YearsAtCompany', 'OverTime',\n",
       "       'Attrition'],\n",
       "      dtype='object')"
      ]
     },
     "execution_count": 15,
     "metadata": {},
     "output_type": "execute_result"
    }
   ],
   "source": [
    "df.columns"
   ]
  },
  {
   "cell_type": "code",
   "execution_count": 16,
   "id": "2c74ce8e-ce7e-4595-92bf-8e2a56de7035",
   "metadata": {},
   "outputs": [
    {
     "data": {
      "image/png": "[encoded data removed]",
      "text/plain": [
       "<Figure size 640x480 with 1 Axes>"
      ]
     },
     "metadata": {},
     "output_type": "display_data"
    },
    {
     "data": {
      "image/png": "[encoded data removed]",
      "text/plain": [
       "<Figure size 640x480 with 1 Axes>"
      ]
     },
     "metadata": {},
     "output_type": "display_data"
    },
    {
     "data": {
      "image/png": "[encoded data removed]",
      "text/plain": [
       "<Figure size 640x480 with 1 Axes>"
      ]
     },
     "metadata": {},
     "output_type": "display_data"
    },
    {
     "data": {
      "image/png": "[encoded data removed]",
      "text/plain": [
       "<Figure size 640x480 with 1 Axes>"
      ]
     },
     "metadata": {},
     "output_type": "display_data"
    },
    {
     "data": {
      "image/png": "[encoded data removed]",
      "text/plain": [
       "<Figure size 640x480 with 1 Axes>"
      ]
     },
     "metadata": {},
     "output_type": "display_data"
    },
    {
     "data": {
      "image/png": "[encoded data removed]",
      "text/plain": [
       "<Figure size 640x480 with 1 Axes>"
      ]
     },
     "metadata": {},
     "output_type": "display_data"
    }
   ],
   "source": [
    "column=['MonthlyIncome', 'Age', 'JobSatisfaction', 'YearsAtCompany', 'OverTime',\n",
    "       'Attrition']\n",
    "for i in column:\n",
    "    \n",
    "     plt.figure()\n",
    "     sns.boxplot(y=i, data=df)"
   ]
  },
  {
   "cell_type": "markdown",
   "id": "ec688e08-ec1e-43ee-b413-d21ad7f27b12",
   "metadata": {},
   "source": [
    "LOGISTIC REGRESSION"
   ]
  },
  {
   "cell_type": "code",
   "execution_count": 18,
   "id": "973f058d-022e-4059-8786-0114b739c428",
   "metadata": {},
   "outputs": [],
   "source": [
    "from sklearn.preprocessing import LabelEncoder, StandardScaler\n",
    "from sklearn.utils import resample"
   ]
  },
  {
   "cell_type": "code",
   "execution_count": 19,
   "id": "a065136e-48fa-4f23-a82f-779a0e57b43a",
   "metadata": {},
   "outputs": [
    {
     "name": "stdout",
     "output_type": "stream",
     "text": [
      "   MonthlyIncome   Age  JobSatisfaction  YearsAtCompany  OverTime\n",
      "0    13191.00000  41.0              4.0        1.000000         1\n",
      "1    15859.00000  44.0              4.0       17.000000         1\n",
      "4     3885.00000  27.0              4.0        0.000000         1\n",
      "6    12891.55099  41.0              2.0       38.528277         1\n",
      "8     4670.00000  53.0              4.0        9.000000         1\n",
      "0    1\n",
      "1    0\n",
      "4    1\n",
      "6    1\n",
      "8    0\n",
      "Name: Attrition, dtype: int32\n"
     ]
    }
   ],
   "source": [
    "le = LabelEncoder()\n",
    "df['OverTime'] = le.fit_transform(df['OverTime'])\n",
    "df = df[df['Attrition'].isin([0, 1])]\n",
    "df['Attrition'] = df['Attrition'].astype(int)\n",
    "X = df[['MonthlyIncome', 'Age', 'JobSatisfaction', 'YearsAtCompany', 'OverTime']]\n",
    "y = df['Attrition']\n",
    "print(X.head())\n",
    "print(y.head())"
   ]
  },
  {
   "cell_type": "code",
   "execution_count": 20,
   "id": "d8ff54f7-d7e1-4cf6-80da-5c47eec5debe",
   "metadata": {},
   "outputs": [],
   "source": [
    "from sklearn.model_selection import train_test_split\n",
    "from sklearn.linear_model import LogisticRegression\n",
    "from sklearn.tree import DecisionTreeClassifier\n",
    "from sklearn.metrics import classification_report, accuracy_score\n",
    "X_train, X_test, y_train, y_test = train_test_split(X, y, test_size=0.2, random_state=42)"
   ]
  },
  {
   "cell_type": "code",
   "execution_count": 42,
   "id": "39e73cef-a7a6-4c8b-9b01-50e33ae2c1a3",
   "metadata": {},
   "outputs": [
    {
     "name": "stdout",
     "output_type": "stream",
     "text": [
      "\n",
      "Logistic Regression Results\n",
      "Accuracy: 0.34285714285714286\n",
      "              precision    recall  f1-score   support\n",
      "\n",
      "           0       0.29      0.10      0.15        20\n",
      "           1       0.36      0.67      0.47        15\n",
      "\n",
      "    accuracy                           0.34        35\n",
      "   macro avg       0.32      0.38      0.31        35\n",
      "weighted avg       0.32      0.34      0.28        35\n",
      "\n"
     ]
    }
   ],
   "source": [
    "logreg = LogisticRegression(max_iter=1000)\n",
    "logreg.fit(X_train, y_train)\n",
    "y_pred_logreg = logreg.predict(X_test)\n",
    "print(\"\\nLogistic Regression Results\")\n",
    "print(\"Accuracy:\", accuracy_score(y_test, y_pred_logreg))\n",
    "print(classification_report(y_test, y_pred_logreg))"
   ]
  },
  {
   "cell_type": "code",
   "execution_count": 44,
   "id": "2c823477-b0c3-4689-b485-cb5ff59eb780",
   "metadata": {},
   "outputs": [
    {
     "name": "stdout",
     "output_type": "stream",
     "text": [
      "\n",
      "Decision Tree Results\n",
      "Accuracy: 0.37142857142857144\n",
      "              precision    recall  f1-score   support\n",
      "\n",
      "           0       0.42      0.25      0.31        20\n",
      "           1       0.35      0.53      0.42        15\n",
      "\n",
      "    accuracy                           0.37        35\n",
      "   macro avg       0.38      0.39      0.37        35\n",
      "weighted avg       0.39      0.37      0.36        35\n",
      "\n"
     ]
    }
   ],
   "source": [
    "dtree = DecisionTreeClassifier(random_state=42)\n",
    "dtree.fit(X_train, y_train)\n",
    "y_pred_dtree = dtree.predict(X_test)\n",
    "print(\"\\nDecision Tree Results\")\n",
    "print(\"Accuracy:\", accuracy_score(y_test, y_pred_dtree))\n",
    "print(classification_report(y_test, y_pred_dtree))"
   ]
  },
  {
   "cell_type": "code",
   "execution_count": 46,
   "id": "b905cc0d-857a-4f49-99ec-4977f9c06578",
   "metadata": {},
   "outputs": [
    {
     "name": "stdout",
     "output_type": "stream",
     "text": [
      "\n",
      "Logistic Regression\n",
      "Accuracy: 0.5\n",
      "              precision    recall  f1-score   support\n",
      "\n",
      "           0       0.47      0.47      0.47        15\n",
      "           1       0.53      0.53      0.53        17\n",
      "\n",
      "    accuracy                           0.50        32\n",
      "   macro avg       0.50      0.50      0.50        32\n",
      "weighted avg       0.50      0.50      0.50        32\n",
      "\n",
      "\n",
      "Decision Tree\n",
      "Accuracy: 0.5\n",
      "              precision    recall  f1-score   support\n",
      "\n",
      "           0       0.48      0.67      0.56        15\n",
      "           1       0.55      0.35      0.43        17\n",
      "\n",
      "    accuracy                           0.50        32\n",
      "   macro avg       0.51      0.51      0.49        32\n",
      "weighted avg       0.51      0.50      0.49        32\n",
      "\n"
     ]
    }
   ],
   "source": [
    "df['OverTime'] = LabelEncoder().fit_transform(df['OverTime'])\n",
    "df = df[df['Attrition'].isin([0, 1])]\n",
    "df['Attrition'] = df['Attrition'].astype(int)\n",
    "df_majority = df[df['Attrition'] == 0]\n",
    "df_minority = df[df['Attrition'] == 1]\n",
    "df_minority_upsampled = resample(df_minority, \n",
    "                                 replace=True,\n",
    "                                 n_samples=len(df_majority),\n",
    "                                 random_state=42)\n",
    "df_balanced = pd.concat([df_majority, df_minority_upsampled])\n",
    "X = df_balanced[['MonthlyIncome', 'Age', 'JobSatisfaction', 'YearsAtCompany', 'OverTime']]\n",
    "y = df_balanced['Attrition']\n",
    "scaler = StandardScaler()\n",
    "X_scaled = scaler.fit_transform(X)\n",
    "X_train, X_test, y_train, y_test = train_test_split(X_scaled, y, test_size=0.2, random_state=42)\n",
    "logreg = LogisticRegression(max_iter=1000)\n",
    "logreg.fit(X_train, y_train)\n",
    "y_pred_logreg = logreg.predict(X_test)\n",
    "dtree = DecisionTreeClassifier(max_depth=5, min_samples_split=10, random_state=42)\n",
    "dtree.fit(X_train, y_train)\n",
    "y_pred_dtree = dtree.predict(X_test)\n",
    "print(\"\\nLogistic Regression\")\n",
    "print(\"Accuracy:\", accuracy_score(y_test, y_pred_logreg))\n",
    "print(classification_report(y_test, y_pred_logreg))\n",
    "print(\"\\nDecision Tree\")\n",
    "print(\"Accuracy:\", accuracy_score(y_test, y_pred_dtree))\n",
    "print(classification_report(y_test, y_pred_dtree))"
   ]
  },
  {
   "cell_type": "code",
   "execution_count": null,
   "id": "8292c438-c42f-4675-a99e-6719549aabaf",
   "metadata": {},
   "outputs": [],
   "source": []
  }
 ],
 "metadata": {
  "kernelspec": {
   "display_name": "Python 3 (ipykernel)",
   "language": "python",
   "name": "python3"
  },
  "language_info": {
   "codemirror_mode": {
    "name": "ipython",
    "version": 3
   },
   "file_extension": ".py",
   "mimetype": "text/x-python",
   "name": "python",
   "nbconvert_exporter": "python",
   "pygments_lexer": "ipython3",
   "version": "3.12.4"
  }
 },
 "nbformat": 4,
 "nbformat_minor": 5
}
